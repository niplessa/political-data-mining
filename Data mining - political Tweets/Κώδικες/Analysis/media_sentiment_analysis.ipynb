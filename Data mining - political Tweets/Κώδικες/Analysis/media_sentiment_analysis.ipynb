{
  "nbformat": 4,
  "nbformat_minor": 0,
  "metadata": {
    "colab": {
      "name": "media sentiment analysis.ipynb",
      "provenance": [],
      "toc_visible": true
    },
    "kernelspec": {
      "name": "python3",
      "display_name": "Python 3"
    }
  },
  "cells": [
    {
      "cell_type": "code",
      "metadata": {
        "id": "9DiHnBfXt-JS",
        "colab_type": "code",
        "outputId": "e9825a91-738a-49b4-f721-5670cce03d82",
        "colab": {
          "base_uri": "https://localhost:8080/",
          "height": 124
        }
      },
      "source": [
        "import numpy as np\n",
        "import pandas as pd\n",
        "pd.set_option('display.max_rows', 40000)\n",
        "pd.set_option('display.max_columns', 600)\n",
        "pd.set_option('display.width', 3000)\n",
        "\n",
        "import  matplotlib.pyplot as plt\n",
        "from wordcloud import WordCloud\n",
        "\n",
        "import nltk\n",
        "nltk.download('stopwords')\n",
        "nltk.download('punkt')\n",
        "nltk.download('wordnet')\n",
        "from nltk.corpus import stopwords\n",
        "from nltk import word_tokenize\n",
        "from nltk.tokenize import regexp_tokenize \n",
        "from string import punctuation\n",
        "from nltk.stem import WordNetLemmatizer \n",
        "\n",
        "from sklearn.feature_extraction import text\n",
        "from sklearn.feature_extraction.text import TfidfVectorizer\n",
        "from sklearn.preprocessing import LabelEncoder\n",
        "import re\n",
        "\n",
        "import string\n",
        "from string import punctuation\n",
        "\n",
        "stopwords = stopwords.words('english')\n"
      ],
      "execution_count": 0,
      "outputs": [
        {
          "output_type": "stream",
          "text": [
            "[nltk_data] Downloading package stopwords to /root/nltk_data...\n",
            "[nltk_data]   Package stopwords is already up-to-date!\n",
            "[nltk_data] Downloading package punkt to /root/nltk_data...\n",
            "[nltk_data]   Package punkt is already up-to-date!\n",
            "[nltk_data] Downloading package wordnet to /root/nltk_data...\n",
            "[nltk_data]   Package wordnet is already up-to-date!\n"
          ],
          "name": "stdout"
        }
      ]
    },
    {
      "cell_type": "code",
      "metadata": {
        "id": "jPUZoXykuOgq",
        "colab_type": "code",
        "colab": {}
      },
      "source": [
        "cnn = pd.read_csv('cnn.csv')"
      ],
      "execution_count": 0,
      "outputs": []
    },
    {
      "cell_type": "markdown",
      "metadata": {
        "id": "Y2vm6WPBDms8",
        "colab_type": "text"
      },
      "source": [
        "**data preprocess**"
      ]
    },
    {
      "cell_type": "code",
      "metadata": {
        "id": "oArnaIcXDsgB",
        "colab_type": "code",
        "colab": {}
      },
      "source": [
        "#make all text lowercase\n",
        "cnn['clean_text'] = cnn['text'].str.lower()\n",
        "#remove words < 2 chars\n",
        "cnn['clean_text'] = cnn['clean_text'].apply(lambda x: ' '.join([w for w in x.split() if len(w)>2]))\n",
        "\n",
        "#remove links with regex\n",
        "p=re.compile('(www|http)\\S+')\n",
        "cnn['clean_text'] = cnn['clean_text'].apply(lambda x: re.sub(p,' ',x))\n",
        "#remove @\n",
        "cnn['clean_text'] = cnn['clean_text'].apply(lambda x: re.sub('@','',x))"
      ],
      "execution_count": 0,
      "outputs": []
    },
    {
      "cell_type": "code",
      "metadata": {
        "id": "ych6rweqDxs1",
        "colab_type": "code",
        "colab": {}
      },
      "source": [
        "#remove stopwords function\n",
        "stops =  list(stopwords) + list(punctuation)\n",
        "\n",
        "def remove_stops(text):\n",
        "    text_no_stops = []\n",
        "    for i in text:\n",
        "        if i not in stops:\n",
        "            if len(i) == 1:\n",
        "                pass\n",
        "            else:\n",
        "                text_no_stops.append(i)\n",
        "        else:\n",
        "            pass\n",
        "    return text_no_stops"
      ],
      "execution_count": 0,
      "outputs": []
    },
    {
      "cell_type": "code",
      "metadata": {
        "id": "bFRhykB3D0OC",
        "colab_type": "code",
        "colab": {}
      },
      "source": [
        "#tokenize\n",
        "cnn['text_tokenized'] = cnn['clean_text'].apply(lambda x: regexp_tokenize(x,\"[\\w']+\"))"
      ],
      "execution_count": 0,
      "outputs": []
    },
    {
      "cell_type": "code",
      "metadata": {
        "id": "AA56Va8HDlgs",
        "colab_type": "code",
        "colab": {}
      },
      "source": [
        "#actually remove stopwords\n",
        "cnn['text_tokenized'] = cnn['text_tokenized'].apply(lambda x: remove_stops(x))"
      ],
      "execution_count": 0,
      "outputs": []
    },
    {
      "cell_type": "code",
      "metadata": {
        "id": "63SZCQsDEIed",
        "colab_type": "code",
        "colab": {}
      },
      "source": [
        "#lematization function\n",
        "lemmatizer = nltk.stem.WordNetLemmatizer()\n",
        "def lemmatize_text(text):\n",
        "    lemmatized = []\n",
        "    for word in text:\n",
        "        lemmatized.append(lemmatizer.lemmatize(word))\n",
        "    return lemmatized"
      ],
      "execution_count": 0,
      "outputs": []
    },
    {
      "cell_type": "code",
      "metadata": {
        "id": "whhUuWe-D3Mw",
        "colab_type": "code",
        "colab": {}
      },
      "source": [
        "#lemmatize\n",
        "cnn['text_lemma'] = cnn['text_tokenized'].apply(lemmatize_text)"
      ],
      "execution_count": 0,
      "outputs": []
    },
    {
      "cell_type": "code",
      "metadata": {
        "id": "b1U5JFHgD5Kj",
        "colab_type": "code",
        "colab": {}
      },
      "source": [
        "#create a string from lemmatized words\n",
        "cnn['lemmatized_string'] = cnn['text_lemma'].apply(lambda x: ' '.join(x))"
      ],
      "execution_count": 0,
      "outputs": []
    },
    {
      "cell_type": "code",
      "metadata": {
        "id": "FQroB5s1ENOP",
        "colab_type": "code",
        "outputId": "d69e9f94-a113-4c83-a155-59b395c61576",
        "colab": {
          "base_uri": "https://localhost:8080/",
          "height": 467
        }
      },
      "source": [
        "cnn.tail()"
      ],
      "execution_count": 0,
      "outputs": [
        {
          "output_type": "execute_result",
          "data": {
            "text/html": [
              "<div>\n",
              "<style scoped>\n",
              "    .dataframe tbody tr th:only-of-type {\n",
              "        vertical-align: middle;\n",
              "    }\n",
              "\n",
              "    .dataframe tbody tr th {\n",
              "        vertical-align: top;\n",
              "    }\n",
              "\n",
              "    .dataframe thead th {\n",
              "        text-align: right;\n",
              "    }\n",
              "</style>\n",
              "<table border=\"1\" class=\"dataframe\">\n",
              "  <thead>\n",
              "    <tr style=\"text-align: right;\">\n",
              "      <th></th>\n",
              "      <th>username</th>\n",
              "      <th>text</th>\n",
              "      <th>date</th>\n",
              "      <th>clean_text</th>\n",
              "      <th>text_tokenized</th>\n",
              "      <th>text_lemma</th>\n",
              "      <th>lemmatized_string</th>\n",
              "    </tr>\n",
              "  </thead>\n",
              "  <tbody>\n",
              "    <tr>\n",
              "      <th>1996</th>\n",
              "      <td>CNNPolitics</td>\n",
              "      <td>Fact check: Ignoring years of warnings, Presid...</td>\n",
              "      <td>2020-03-20</td>\n",
              "      <td>fact check: ignoring years warnings, president...</td>\n",
              "      <td>[fact, check, ignoring, years, warnings, presi...</td>\n",
              "      <td>[fact, check, ignoring, year, warning, preside...</td>\n",
              "      <td>fact check ignoring year warning president tru...</td>\n",
              "    </tr>\n",
              "    <tr>\n",
              "      <th>1997</th>\n",
              "      <td>CNNPolitics</td>\n",
              "      <td>Fact check: Asked about a coronavirus test sho...</td>\n",
              "      <td>2020-03-19</td>\n",
              "      <td>fact check: asked about coronavirus test short...</td>\n",
              "      <td>[fact, check, asked, coronavirus, test, shorta...</td>\n",
              "      <td>[fact, check, asked, coronavirus, test, shorta...</td>\n",
              "      <td>fact check asked coronavirus test shortage pre...</td>\n",
              "    </tr>\n",
              "    <tr>\n",
              "      <th>1998</th>\n",
              "      <td>CNNPolitics</td>\n",
              "      <td>New York City Mayor Bill de Blasio on a possib...</td>\n",
              "      <td>2020-03-19</td>\n",
              "      <td>new york city mayor bill blasio possible short...</td>\n",
              "      <td>[new, york, city, mayor, bill, blasio, possibl...</td>\n",
              "      <td>[new, york, city, mayor, bill, blasio, possibl...</td>\n",
              "      <td>new york city mayor bill blasio possible short...</td>\n",
              "    </tr>\n",
              "    <tr>\n",
              "      <th>1999</th>\n",
              "      <td>CNNPolitics</td>\n",
              "      <td>Congress needs to take coronavirus more seriou...</td>\n",
              "      <td>2020-03-19</td>\n",
              "      <td>congress needs take coronavirus more seriously...</td>\n",
              "      <td>[congress, needs, take, coronavirus, seriously...</td>\n",
              "      <td>[congress, need, take, coronavirus, seriously,...</td>\n",
              "      <td>congress need take coronavirus seriously point</td>\n",
              "    </tr>\n",
              "    <tr>\n",
              "      <th>2000</th>\n",
              "      <td>CNNPolitics</td>\n",
              "      <td>Coronavirus presents millennials with a genera...</td>\n",
              "      <td>2020-03-19</td>\n",
              "      <td>coronavirus presents millennials with generati...</td>\n",
              "      <td>[coronavirus, presents, millennials, generatio...</td>\n",
              "      <td>[coronavirus, present, millennials, generation...</td>\n",
              "      <td>coronavirus present millennials generational m...</td>\n",
              "    </tr>\n",
              "  </tbody>\n",
              "</table>\n",
              "</div>"
            ],
            "text/plain": [
              "         username                                               text        date                                         clean_text                                     text_tokenized                                         text_lemma                                  lemmatized_string\n",
              "1996  CNNPolitics  Fact check: Ignoring years of warnings, Presid...  2020-03-20  fact check: ignoring years warnings, president...  [fact, check, ignoring, years, warnings, presi...  [fact, check, ignoring, year, warning, preside...  fact check ignoring year warning president tru...\n",
              "1997  CNNPolitics  Fact check: Asked about a coronavirus test sho...  2020-03-19  fact check: asked about coronavirus test short...  [fact, check, asked, coronavirus, test, shorta...  [fact, check, asked, coronavirus, test, shorta...  fact check asked coronavirus test shortage pre...\n",
              "1998  CNNPolitics  New York City Mayor Bill de Blasio on a possib...  2020-03-19  new york city mayor bill blasio possible short...  [new, york, city, mayor, bill, blasio, possibl...  [new, york, city, mayor, bill, blasio, possibl...  new york city mayor bill blasio possible short...\n",
              "1999  CNNPolitics  Congress needs to take coronavirus more seriou...  2020-03-19  congress needs take coronavirus more seriously...  [congress, needs, take, coronavirus, seriously...  [congress, need, take, coronavirus, seriously,...     congress need take coronavirus seriously point\n",
              "2000  CNNPolitics  Coronavirus presents millennials with a genera...  2020-03-19  coronavirus presents millennials with generati...  [coronavirus, presents, millennials, generatio...  [coronavirus, present, millennials, generation...  coronavirus present millennials generational m..."
            ]
          },
          "metadata": {
            "tags": []
          },
          "execution_count": 118
        }
      ]
    },
    {
      "cell_type": "markdown",
      "metadata": {
        "id": "Bl6YEcxL2fxI",
        "colab_type": "text"
      },
      "source": [
        "**create df for tweets about trump**"
      ]
    },
    {
      "cell_type": "code",
      "metadata": {
        "id": "wVFR0vyuuXZz",
        "colab_type": "code",
        "outputId": "a6b1e63e-39c4-4091-8a59-43edb19a6073",
        "colab": {
          "base_uri": "https://localhost:8080/",
          "height": 35
        }
      },
      "source": [
        "cnn_trump = pd.DataFrame()\n",
        "\n",
        "keywords = ['trump']\n",
        "\n",
        "for k in keywords :\n",
        "    tmp = cnn[cnn['text'].str.lower().str.contains(k)]\n",
        "    cnn_trump = cnn_trump.append(tmp)\n",
        "    \n",
        "    \n",
        "    \n",
        "cnn_trump.sort_values(\"date\", inplace = True,ascending = False)   #sort by date\n",
        "cnn_trump.drop_duplicates(subset=\"text\",          #drop duplicate titles\n",
        "                      keep = \"first\", inplace = True,)\n",
        "cnn_trump = cnn_trump.reset_index(drop=True) #reset index\n",
        "print(\"Trump related tweets: \",cnn_trump.shape[0])\n"
      ],
      "execution_count": 0,
      "outputs": [
        {
          "output_type": "stream",
          "text": [
            "Trump related tweets:  750\n"
          ],
          "name": "stdout"
        }
      ]
    },
    {
      "cell_type": "code",
      "metadata": {
        "id": "ro16A1Eg6_7S",
        "colab_type": "code",
        "colab": {}
      },
      "source": [
        "cnn_trump['label'] = 'trump'"
      ],
      "execution_count": 0,
      "outputs": []
    },
    {
      "cell_type": "markdown",
      "metadata": {
        "id": "KqYR_HFw2k65",
        "colab_type": "text"
      },
      "source": [
        "**create df for tweets about sanders** *italicized text*"
      ]
    },
    {
      "cell_type": "code",
      "metadata": {
        "id": "Rf5meN7G2an6",
        "colab_type": "code",
        "outputId": "0d6dc3d6-9c57-4960-cca3-b0390ab5e456",
        "colab": {
          "base_uri": "https://localhost:8080/",
          "height": 35
        }
      },
      "source": [
        "cnn_sanders = pd.DataFrame()\n",
        "\n",
        "keywords = ['bernie','sanders']\n",
        "\n",
        "for k in keywords :\n",
        "    tmp = cnn[cnn['text'].str.lower().str.contains(k)]\n",
        "    cnn_sanders = cnn_sanders.append(tmp)\n",
        "    \n",
        "    \n",
        "    \n",
        "cnn_sanders.sort_values(\"date\", inplace = True,ascending = False)   #sort by date\n",
        "cnn_sanders.drop_duplicates(subset=\"text\",          #drop duplicate titles\n",
        "                      keep = \"first\", inplace = True,)\n",
        "cnn_sanders = cnn_sanders.reset_index(drop=True) #reset index\n",
        "print(\"Sanders related tweets: \",cnn_sanders.shape[0])\n"
      ],
      "execution_count": 0,
      "outputs": [
        {
          "output_type": "stream",
          "text": [
            "Sanders related tweets:  29\n"
          ],
          "name": "stdout"
        }
      ]
    },
    {
      "cell_type": "code",
      "metadata": {
        "id": "QCCaoD_I7FsM",
        "colab_type": "code",
        "colab": {}
      },
      "source": [
        "cnn_sanders['label'] = 'sanders'"
      ],
      "execution_count": 0,
      "outputs": []
    },
    {
      "cell_type": "code",
      "metadata": {
        "id": "8DOpG7mq7MPh",
        "colab_type": "code",
        "colab": {}
      },
      "source": [
        "index = cnn_trump.index\n",
        "tr_rows = len(index)"
      ],
      "execution_count": 0,
      "outputs": []
    },
    {
      "cell_type": "code",
      "metadata": {
        "id": "XqN-KCPk8S45",
        "colab_type": "code",
        "colab": {}
      },
      "source": [
        "index = cnn_sanders.index\n",
        "san_rows = len(index)"
      ],
      "execution_count": 0,
      "outputs": []
    },
    {
      "cell_type": "markdown",
      "metadata": {
        "id": "07_ZcOjvCPOI",
        "colab_type": "text"
      },
      "source": [
        "**plot how many mentions each candidate gets**"
      ]
    },
    {
      "cell_type": "code",
      "metadata": {
        "id": "phChksqNCBxA",
        "colab_type": "code",
        "colab": {}
      },
      "source": [
        "mentions = [tr_rows,san_rows]"
      ],
      "execution_count": 0,
      "outputs": []
    },
    {
      "cell_type": "code",
      "metadata": {
        "id": "O7V8XZ_7CYlU",
        "colab_type": "code",
        "colab": {}
      },
      "source": [
        "candidates =['Trump','Sanders']"
      ],
      "execution_count": 0,
      "outputs": []
    },
    {
      "cell_type": "code",
      "metadata": {
        "id": "9Ifug1ZpB-Xv",
        "colab_type": "code",
        "outputId": "ac5181f9-7ed7-4917-83ef-07e4fad423ca",
        "colab": {
          "base_uri": "https://localhost:8080/",
          "height": 485
        }
      },
      "source": [
        "plt.figure(figsize=(20,10))\n",
        "fig=plt.bar(candidates,mentions,color=('orange','green'))\n",
        "plt.title(\"Mention count for each candidate - CNN politics\",fontsize=20)\n",
        "plt.xlabel(\"Mentions\",fontsize=20)\n",
        "plt.ylabel('Candidate',fontsize=20)\n",
        "plt.show()"
      ],
      "execution_count": 0,
      "outputs": [
        {
          "output_type": "display_data",
          "data": {
            "image/png": "[encoded data removed]",
            "text/plain": [
              "<Figure size 1440x720 with 1 Axes>"
            ]
          },
          "metadata": {
            "tags": []
          }
        }
      ]
    },
    {
      "cell_type": "markdown",
      "metadata": {
        "id": "6YHv3bP0C9UI",
        "colab_type": "text"
      },
      "source": [
        "**sentiment analysis**"
      ]
    },
    {
      "cell_type": "code",
      "metadata": {
        "id": "1eEiHkj1C6sy",
        "colab_type": "code",
        "colab": {}
      },
      "source": [
        "from textblob import TextBlob"
      ],
      "execution_count": 0,
      "outputs": []
    },
    {
      "cell_type": "code",
      "metadata": {
        "id": "ONqFwCmDEg39",
        "colab_type": "code",
        "colab": {}
      },
      "source": [
        "def analyze_sentiment(text):\n",
        "    analysis = TextBlob(text)\n",
        "    #return  analysis.sentiment.polarity\n",
        "    \n",
        "    if analysis.sentiment.polarity > 0:\n",
        "        return 'positive'\n",
        "    elif analysis.sentiment.polarity == 0:\n",
        "        return 'neutral'\n",
        "    else:\n",
        "        return 'negative'"
      ],
      "execution_count": 0,
      "outputs": []
    },
    {
      "cell_type": "code",
      "metadata": {
        "id": "Tm2omnSJEi0f",
        "colab_type": "code",
        "colab": {}
      },
      "source": [
        "cnn_trump['sentiment'] = np.array([ analyze_sentiment(tweet) for tweet in cnn_trump['lemmatized_string'] ])"
      ],
      "execution_count": 0,
      "outputs": []
    },
    {
      "cell_type": "code",
      "metadata": {
        "id": "7QoAQOssE9T-",
        "colab_type": "code",
        "colab": {}
      },
      "source": [
        "cnn_sanders['sentiment'] = np.array([ analyze_sentiment(tweet) for tweet in cnn_sanders['lemmatized_string'] ])"
      ],
      "execution_count": 0,
      "outputs": []
    },
    {
      "cell_type": "code",
      "metadata": {
        "id": "JTLXfceKFKrn",
        "colab_type": "code",
        "colab": {}
      },
      "source": [
        "import seaborn as sns\n",
        "sns.set(rc={'figure.figsize':(13,9)})\n",
        "plt.style.use('fivethirtyeight')"
      ],
      "execution_count": 0,
      "outputs": []
    },
    {
      "cell_type": "code",
      "metadata": {
        "id": "1Q08b9QyFM3z",
        "colab_type": "code",
        "outputId": "a55b9cdd-5055-4f1d-d6bd-b2c255be4dfc",
        "colab": {
          "base_uri": "https://localhost:8080/",
          "height": 612
        }
      },
      "source": [
        "ax = sns.countplot(x= 'sentiment', data=cnn_trump,palette='coolwarm').set_title('CNN: Sentiment of articles about Trump')\n",
        "plt.show()"
      ],
      "execution_count": 0,
      "outputs": [
        {
          "output_type": "display_data",
          "data": {
            "image/png": "[encoded data removed]",
            "text/plain": [
              "<Figure size 936x648 with 1 Axes>"
            ]
          },
          "metadata": {
            "tags": []
          }
        }
      ]
    },
    {
      "cell_type": "code",
      "metadata": {
        "id": "5WktxGrMGqld",
        "colab_type": "code",
        "outputId": "69315da5-2ad8-42a2-f7bb-d12071e427c3",
        "colab": {
          "base_uri": "https://localhost:8080/",
          "height": 612
        }
      },
      "source": [
        "ax = sns.countplot(x= 'sentiment', data=cnn_sanders,palette='coolwarm').set_title('CNN: Sentiment of articles about Sanders')\n",
        "plt.show()"
      ],
      "execution_count": 0,
      "outputs": [
        {
          "output_type": "display_data",
          "data": {
            "image/png": "[encoded data removed]",
            "text/plain": [
              "<Figure size 936x648 with 1 Axes>"
            ]
          },
          "metadata": {
            "tags": []
          }
        }
      ]
    },
    {
      "cell_type": "markdown",
      "metadata": {
        "id": "VyRry3rNQotK",
        "colab_type": "text"
      },
      "source": [
        "###Analysis of articles recovered from rss feeds"
      ]
    },
    {
      "cell_type": "markdown",
      "metadata": {
        "id": "ZEVmFXDLTed1",
        "colab_type": "text"
      },
      "source": [
        "articles recovered from: nytimes, bbc, rt, aljazzera, "
      ]
    },
    {
      "cell_type": "markdown",
      "metadata": {
        "id": "djtszVkqQx8b",
        "colab_type": "text"
      },
      "source": [
        ""
      ]
    },
    {
      "cell_type": "code",
      "metadata": {
        "id": "QdeEWFWZQv2M",
        "colab_type": "code",
        "colab": {}
      },
      "source": [
        "rss = pd.read_csv(\"rss_feed_english.csv\")"
      ],
      "execution_count": 0,
      "outputs": []
    },
    {
      "cell_type": "code",
      "metadata": {
        "id": "hWTdRYZtT9xa",
        "colab_type": "code",
        "outputId": "5403c9ba-51c6-4961-e1b1-706789f027fc",
        "colab": {
          "base_uri": "https://localhost:8080/",
          "height": 214
        }
      },
      "source": [
        "rss.info()"
      ],
      "execution_count": 0,
      "outputs": [
        {
          "output_type": "stream",
          "text": [
            "<class 'pandas.core.frame.DataFrame'>\n",
            "RangeIndex: 7366 entries, 0 to 7365\n",
            "Data columns (total 4 columns):\n",
            " #   Column   Non-Null Count  Dtype \n",
            "---  ------   --------------  ----- \n",
            " 0   title    7366 non-null   object\n",
            " 1   date     7366 non-null   object\n",
            " 2   summary  7366 non-null   object\n",
            " 3   link     7366 non-null   object\n",
            "dtypes: object(4)\n",
            "memory usage: 230.3+ KB\n"
          ],
          "name": "stdout"
        }
      ]
    },
    {
      "cell_type": "code",
      "metadata": {
        "id": "ANhZjrPeUJ0a",
        "colab_type": "code",
        "colab": {}
      },
      "source": [
        "rss.drop_duplicates(subset=\"link\",keep = \"first\", inplace = True)\n"
      ],
      "execution_count": 0,
      "outputs": []
    },
    {
      "cell_type": "code",
      "metadata": {
        "id": "Y2Q_Hw1XUUOk",
        "colab_type": "code",
        "colab": {}
      },
      "source": [
        "rss.title = rss.title.astype('str')\n",
        "rss.summary = rss.summary.astype('str')"
      ],
      "execution_count": 0,
      "outputs": []
    },
    {
      "cell_type": "code",
      "metadata": {
        "id": "SDv4oIjjU2eg",
        "colab_type": "code",
        "colab": {}
      },
      "source": [
        "rss['text'] = rss.title + rss.summary"
      ],
      "execution_count": 0,
      "outputs": []
    },
    {
      "cell_type": "markdown",
      "metadata": {
        "id": "4La80vx3VFbM",
        "colab_type": "text"
      },
      "source": [
        "**the usual preproccessing**"
      ]
    },
    {
      "cell_type": "code",
      "metadata": {
        "id": "om_WRtOwTzlf",
        "colab_type": "code",
        "colab": {}
      },
      "source": [
        "#make all text lowercase\n",
        "rss['clean_text'] = rss['text'].str.lower()"
      ],
      "execution_count": 0,
      "outputs": []
    },
    {
      "cell_type": "code",
      "metadata": {
        "id": "_oKsY_6FCVsM",
        "colab_type": "code",
        "colab": {}
      },
      "source": [
        "#remove words < 2 chars\n",
        "rss['clean_text'] = rss['clean_text'].apply(lambda x: ' '.join([w for w in x.split() if len(w)>2]))\n",
        "\n",
        "#remove links with regex\n",
        "p=re.compile('(www|http)\\S+')\n",
        "rss['clean_text'] = rss['clean_text'].apply(lambda x: re.sub(p,' ',x))\n",
        "#remove @\n",
        "rss['clean_text'] = rss['clean_text'].apply(lambda x: re.sub('@','',x))"
      ],
      "execution_count": 0,
      "outputs": []
    },
    {
      "cell_type": "code",
      "metadata": {
        "id": "QqyY8eGCV3tP",
        "colab_type": "code",
        "colab": {}
      },
      "source": [
        "#tokenize\n",
        "rss['text_tokenized'] = rss['clean_text'].apply(lambda x: regexp_tokenize(x,\"[\\w']+\"))"
      ],
      "execution_count": 0,
      "outputs": []
    },
    {
      "cell_type": "code",
      "metadata": {
        "id": "yZGbUW1TV7D1",
        "colab_type": "code",
        "colab": {}
      },
      "source": [
        "#actually remove stopwords\n",
        "rss['text_tokenized'] = rss['text_tokenized'].apply(lambda x: remove_stops(x))"
      ],
      "execution_count": 0,
      "outputs": []
    },
    {
      "cell_type": "code",
      "metadata": {
        "id": "J4dSD8H7V-SZ",
        "colab_type": "code",
        "colab": {}
      },
      "source": [
        "#lemmatize\n",
        "rss['text_lemma'] = rss['text_tokenized'].apply(lemmatize_text)"
      ],
      "execution_count": 0,
      "outputs": []
    },
    {
      "cell_type": "code",
      "metadata": {
        "id": "0CEuD965V_bN",
        "colab_type": "code",
        "colab": {}
      },
      "source": [
        "#create a string from lemmatized words\n",
        "rss['lemmatized_string'] = rss['text_lemma'].apply(lambda x: ' '.join(x))"
      ],
      "execution_count": 0,
      "outputs": []
    },
    {
      "cell_type": "code",
      "metadata": {
        "id": "1oa0Mv3NWfQL",
        "colab_type": "code",
        "outputId": "fea3fb08-c323-4751-c029-2d5b512f7844",
        "colab": {
          "base_uri": "https://localhost:8080/",
          "height": 35
        }
      },
      "source": [
        "rss_trump = pd.DataFrame()\n",
        "\n",
        "keywords = ['trump']\n",
        "\n",
        "for k in keywords :\n",
        "    tmp = rss[rss['text'].str.lower().str.contains(k)]\n",
        "    rss_trump = rss_trump.append(tmp)\n",
        "    \n",
        "    \n",
        "    \n",
        "rss_trump.sort_values(\"date\", inplace = True,ascending = False)   #sort by date\n",
        "rss_trump = rss_trump.reset_index(drop=True) #reset index\n",
        "print(\"Trump related articles: \",rss_trump.shape[0])\n"
      ],
      "execution_count": 0,
      "outputs": [
        {
          "output_type": "stream",
          "text": [
            "Trump related articles:  106\n"
          ],
          "name": "stdout"
        }
      ]
    },
    {
      "cell_type": "code",
      "metadata": {
        "id": "Z4CLqg_gXZmf",
        "colab_type": "code",
        "outputId": "327ba1fd-4647-4df9-a3af-dc8217692ce3",
        "colab": {
          "base_uri": "https://localhost:8080/",
          "height": 35
        }
      },
      "source": [
        "rss_sanders = pd.DataFrame()\n",
        "\n",
        "keywords = ['sanders']\n",
        "\n",
        "for k in keywords :\n",
        "    tmp = rss[rss['text'].str.lower().str.contains(k)]\n",
        "    rss_sanders = rss_sanders.append(tmp)\n",
        "    \n",
        "    \n",
        "    \n",
        "rss_sanders.sort_values(\"date\", inplace = True,ascending = False)   #sort by date\n",
        "rss_sanders = rss_sanders.reset_index(drop=True) #reset index\n",
        "print(\"Sanders related articles: \",rss_sanders.shape[0])\n"
      ],
      "execution_count": 0,
      "outputs": [
        {
          "output_type": "stream",
          "text": [
            "Sanders related articles:  19\n"
          ],
          "name": "stdout"
        }
      ]
    },
    {
      "cell_type": "code",
      "metadata": {
        "id": "o1OtLIEf2fzX",
        "colab_type": "code",
        "outputId": "14d11106-4d2d-4ef9-eee2-1d27e74c4458",
        "colab": {
          "base_uri": "https://localhost:8080/",
          "height": 643
        }
      },
      "source": [
        "rss.tail()"
      ],
      "execution_count": 0,
      "outputs": [
        {
          "output_type": "execute_result",
          "data": {
            "text/html": [
              "<div>\n",
              "<style scoped>\n",
              "    .dataframe tbody tr th:only-of-type {\n",
              "        vertical-align: middle;\n",
              "    }\n",
              "\n",
              "    .dataframe tbody tr th {\n",
              "        vertical-align: top;\n",
              "    }\n",
              "\n",
              "    .dataframe thead th {\n",
              "        text-align: right;\n",
              "    }\n",
              "</style>\n",
              "<table border=\"1\" class=\"dataframe\">\n",
              "  <thead>\n",
              "    <tr style=\"text-align: right;\">\n",
              "      <th></th>\n",
              "      <th>title</th>\n",
              "      <th>date</th>\n",
              "      <th>summary</th>\n",
              "      <th>link</th>\n",
              "      <th>text</th>\n",
              "      <th>clean_text</th>\n",
              "      <th>text_tokenized</th>\n",
              "      <th>text_lemma</th>\n",
              "      <th>lemmatized_string</th>\n",
              "    </tr>\n",
              "  </thead>\n",
              "  <tbody>\n",
              "    <tr>\n",
              "      <th>7318</th>\n",
              "      <td>Researchers unearth deep-sea bacteria with met...</td>\n",
              "      <td>2020-4-4</td>\n",
              "      <td>A peculiar form of bacteria discovered on the...</td>\n",
              "      <td>https://www.rt.com/news/484973-deep-sea-bacter...</td>\n",
              "      <td>Researchers unearth deep-sea bacteria with met...</td>\n",
              "      <td>researchers unearth deep-sea bacteria with met...</td>\n",
              "      <td>[researchers, unearth, deep, sea, bacteria, me...</td>\n",
              "      <td>[researcher, unearth, deep, sea, bacteria, met...</td>\n",
              "      <td>researcher unearth deep sea bacteria metabolis...</td>\n",
              "    </tr>\n",
              "    <tr>\n",
              "      <th>7319</th>\n",
              "      <td>LISTEN: China pays tribute to Covid-19 victims...</td>\n",
              "      <td>2020-4-4</td>\n",
              "      <td>China has held a nationwide day of mourning f...</td>\n",
              "      <td>https://www.rt.com/news/484953-china-coronavir...</td>\n",
              "      <td>LISTEN: China pays tribute to Covid-19 victims...</td>\n",
              "      <td>listen: china pays tribute covid-19 victims wi...</td>\n",
              "      <td>[listen, china, pays, tribute, covid, 19, vict...</td>\n",
              "      <td>[listen, china, pay, tribute, covid, 19, victi...</td>\n",
              "      <td>listen china pay tribute covid 19 victim minut...</td>\n",
              "    </tr>\n",
              "    <tr>\n",
              "      <th>7320</th>\n",
              "      <td>Two killed, several injured in stabbing attack...</td>\n",
              "      <td>2020-4-4</td>\n",
              "      <td>At least two people have been killed and mult...</td>\n",
              "      <td>https://www.rt.com/news/484961-stabbing-attack...</td>\n",
              "      <td>Two killed, several injured in stabbing attack...</td>\n",
              "      <td>two killed, several injured stabbing attack fr...</td>\n",
              "      <td>[two, killed, several, injured, stabbing, atta...</td>\n",
              "      <td>[two, killed, several, injured, stabbing, atta...</td>\n",
              "      <td>two killed several injured stabbing attack fre...</td>\n",
              "    </tr>\n",
              "    <tr>\n",
              "      <th>7321</th>\n",
              "      <td>‘Govt sends us NAKED against Covid-19’: RT spe...</td>\n",
              "      <td>2020-4-4</td>\n",
              "      <td>French caregivers battling Covid-19 are appal...</td>\n",
              "      <td>https://www.rt.com/news/484948-french-nurses-n...</td>\n",
              "      <td>‘Govt sends us NAKED against Covid-19’: RT spe...</td>\n",
              "      <td>‘govt sends naked against covid-19’: speaks fr...</td>\n",
              "      <td>[govt, sends, naked, covid, 19, speaks, french...</td>\n",
              "      <td>[govt, sends, naked, covid, 19, speaks, french...</td>\n",
              "      <td>govt sends naked covid 19 speaks french nurse ...</td>\n",
              "    </tr>\n",
              "    <tr>\n",
              "      <th>7365</th>\n",
              "      <td>Migrant protests take place in Sweden’s Gothen...</td>\n",
              "      <td>2020-4-1</td>\n",
              "      <td>Sweden has banned gatherings of more than 50 ...</td>\n",
              "      <td>https://www.rt.com/news/484700-sweden-migrant-...</td>\n",
              "      <td>Migrant protests take place in Sweden’s Gothen...</td>\n",
              "      <td>migrant protests take place sweden’s gothenbur...</td>\n",
              "      <td>[migrant, protests, take, place, sweden, gothe...</td>\n",
              "      <td>[migrant, protest, take, place, sweden, gothen...</td>\n",
              "      <td>migrant protest take place sweden gothenburg d...</td>\n",
              "    </tr>\n",
              "  </tbody>\n",
              "</table>\n",
              "</div>"
            ],
            "text/plain": [
              "                                                  title      date                                            summary                                               link                                               text                                         clean_text                                     text_tokenized                                         text_lemma                                  lemmatized_string\n",
              "7318  Researchers unearth deep-sea bacteria with met...  2020-4-4   A peculiar form of bacteria discovered on the...  https://www.rt.com/news/484973-deep-sea-bacter...  Researchers unearth deep-sea bacteria with met...  researchers unearth deep-sea bacteria with met...  [researchers, unearth, deep, sea, bacteria, me...  [researcher, unearth, deep, sea, bacteria, met...  researcher unearth deep sea bacteria metabolis...\n",
              "7319  LISTEN: China pays tribute to Covid-19 victims...  2020-4-4   China has held a nationwide day of mourning f...  https://www.rt.com/news/484953-china-coronavir...  LISTEN: China pays tribute to Covid-19 victims...  listen: china pays tribute covid-19 victims wi...  [listen, china, pays, tribute, covid, 19, vict...  [listen, china, pay, tribute, covid, 19, victi...  listen china pay tribute covid 19 victim minut...\n",
              "7320  Two killed, several injured in stabbing attack...  2020-4-4   At least two people have been killed and mult...  https://www.rt.com/news/484961-stabbing-attack...  Two killed, several injured in stabbing attack...  two killed, several injured stabbing attack fr...  [two, killed, several, injured, stabbing, atta...  [two, killed, several, injured, stabbing, atta...  two killed several injured stabbing attack fre...\n",
              "7321  ‘Govt sends us NAKED against Covid-19’: RT spe...  2020-4-4   French caregivers battling Covid-19 are appal...  https://www.rt.com/news/484948-french-nurses-n...  ‘Govt sends us NAKED against Covid-19’: RT spe...  ‘govt sends naked against covid-19’: speaks fr...  [govt, sends, naked, covid, 19, speaks, french...  [govt, sends, naked, covid, 19, speaks, french...  govt sends naked covid 19 speaks french nurse ...\n",
              "7365  Migrant protests take place in Sweden’s Gothen...  2020-4-1   Sweden has banned gatherings of more than 50 ...  https://www.rt.com/news/484700-sweden-migrant-...  Migrant protests take place in Sweden’s Gothen...  migrant protests take place sweden’s gothenbur...  [migrant, protests, take, place, sweden, gothe...  [migrant, protest, take, place, sweden, gothen...  migrant protest take place sweden gothenburg d..."
            ]
          },
          "metadata": {
            "tags": []
          },
          "execution_count": 121
        }
      ]
    },
    {
      "cell_type": "code",
      "metadata": {
        "id": "wTlc2f04YHa5",
        "colab_type": "code",
        "outputId": "aa72ba53-fb51-41b9-bc17-ff3e8ab61f19",
        "colab": {
          "base_uri": "https://localhost:8080/",
          "height": 35
        }
      },
      "source": [
        "rss_biden = pd.DataFrame()\n",
        "\n",
        "keywords = ['biden']\n",
        "\n",
        "for k in keywords :\n",
        "    tmp = rss[rss['text'].str.lower().str.contains(k)]\n",
        "    rss_biden = rss_biden.append(tmp)\n",
        "    \n",
        "    \n",
        "    \n",
        "rss_biden.sort_values(\"date\", inplace = True,ascending = False)   #sort by date\n",
        "rss_biden = rss_biden.reset_index(drop=True) #reset index\n",
        "print(\"Biden related articles: \",rss_biden.shape[0])\n"
      ],
      "execution_count": 0,
      "outputs": [
        {
          "output_type": "stream",
          "text": [
            "Biden related articles:  26\n"
          ],
          "name": "stdout"
        }
      ]
    },
    {
      "cell_type": "code",
      "metadata": {
        "id": "jfivCfkeaSjE",
        "colab_type": "code",
        "colab": {}
      },
      "source": [
        "index = rss_trump.index\n",
        "tr_rows = len(index)\n",
        "index = rss_sanders.index\n",
        "san_rows = len(index)\n",
        "index = rss_biden.index\n",
        "bid_rows = len(index)"
      ],
      "execution_count": 0,
      "outputs": []
    },
    {
      "cell_type": "code",
      "metadata": {
        "id": "aOpruqZZaqF3",
        "colab_type": "code",
        "outputId": "392c5326-4217-4e4f-e81e-90489e767ef2",
        "colab": {
          "base_uri": "https://localhost:8080/",
          "height": 485
        }
      },
      "source": [
        "mentions = [tr_rows,san_rows]\n",
        "candidates = ['Trump','Sanders']\n",
        "\n",
        "plt.figure(figsize=(20,10))\n",
        "fig=plt.bar(candidates,mentions,color=('orange','green'))\n",
        "plt.title(\"Mention count for each candidate - articles from multiple sources\",fontsize=20)\n",
        "plt.xlabel(\"Mentions\",fontsize=20)\n",
        "plt.ylabel('Candidate',fontsize=20)\n",
        "plt.show()"
      ],
      "execution_count": 0,
      "outputs": [
        {
          "output_type": "display_data",
          "data": {
            "image/png": "[encoded data removed]",
            "text/plain": [
              "<Figure size 1440x720 with 1 Axes>"
            ]
          },
          "metadata": {
            "tags": []
          }
        }
      ]
    },
    {
      "cell_type": "code",
      "metadata": {
        "id": "l4hOW47qbF8t",
        "colab_type": "code",
        "colab": {}
      },
      "source": [
        "rss_trump['sentiment'] = np.array([ analyze_sentiment(tweet) for tweet in rss_trump['lemmatized_string'] ])"
      ],
      "execution_count": 0,
      "outputs": []
    },
    {
      "cell_type": "code",
      "metadata": {
        "id": "HJd47gIIbPlB",
        "colab_type": "code",
        "colab": {}
      },
      "source": [
        "rss_sanders['sentiment'] = np.array([ analyze_sentiment(tweet) for tweet in rss_sanders['lemmatized_string'] ])"
      ],
      "execution_count": 0,
      "outputs": []
    },
    {
      "cell_type": "code",
      "metadata": {
        "id": "YRDOEhiQbQHT",
        "colab_type": "code",
        "colab": {}
      },
      "source": [
        "rss_biden['sentiment'] = np.array([ analyze_sentiment(tweet) for tweet in rss_biden['lemmatized_string'] ])"
      ],
      "execution_count": 0,
      "outputs": []
    },
    {
      "cell_type": "code",
      "metadata": {
        "id": "8EL7N08obcuV",
        "colab_type": "code",
        "outputId": "e27a73b5-d074-41cb-c58b-a7e0b74872ce",
        "colab": {
          "base_uri": "https://localhost:8080/",
          "height": 612
        }
      },
      "source": [
        "ax = sns.countplot(x= 'sentiment', data=rss_trump,palette='coolwarm').set_title('Articles from multiple sources: Trump')\n",
        "plt.show()"
      ],
      "execution_count": 0,
      "outputs": [
        {
          "output_type": "display_data",
          "data": {
            "image/png": "[encoded data removed]",
            "text/plain": [
              "<Figure size 936x648 with 1 Axes>"
            ]
          },
          "metadata": {
            "tags": []
          }
        }
      ]
    },
    {
      "cell_type": "code",
      "metadata": {
        "id": "ASeIFxc6bvve",
        "colab_type": "code",
        "outputId": "747d6264-64aa-4cee-9600-e56c80a247d8",
        "colab": {
          "base_uri": "https://localhost:8080/",
          "height": 612
        }
      },
      "source": [
        "ax = sns.countplot(x= 'sentiment', data=rss_biden,palette='coolwarm').set_title('Articles from multiple sources: Biden')\n",
        "plt.show()"
      ],
      "execution_count": 0,
      "outputs": [
        {
          "output_type": "display_data",
          "data": {
            "image/png": "[encoded data removed]",
            "text/plain": [
              "<Figure size 936x648 with 1 Axes>"
            ]
          },
          "metadata": {
            "tags": []
          }
        }
      ]
    },
    {
      "cell_type": "code",
      "metadata": {
        "id": "v1DMM2Oeb7fg",
        "colab_type": "code",
        "outputId": "24069c32-3c1b-4560-fb39-921724d8ccca",
        "colab": {
          "base_uri": "https://localhost:8080/",
          "height": 612
        }
      },
      "source": [
        "ax = sns.countplot(x= 'sentiment', data=rss_sanders,palette='coolwarm').set_title('Articles from multiple sources: Sanders')\n",
        "plt.show()"
      ],
      "execution_count": 0,
      "outputs": [
        {
          "output_type": "display_data",
          "data": {
            "image/png": "[encoded data removed]",
            "text/plain": [
              "<Figure size 936x648 with 1 Axes>"
            ]
          },
          "metadata": {
            "tags": []
          }
        }
      ]
    },
    {
      "cell_type": "markdown",
      "metadata": {
        "id": "aWH4va8BcRIr",
        "colab_type": "text"
      },
      "source": [
        "**clustering**"
      ]
    },
    {
      "cell_type": "code",
      "metadata": {
        "id": "XqTuHWs0dS_P",
        "colab_type": "code",
        "outputId": "f14c2a03-bdd0-4b0e-c3ab-17c2db5a701d",
        "colab": {
          "base_uri": "https://localhost:8080/",
          "height": 608
        }
      },
      "source": [
        "rss_trump.head()"
      ],
      "execution_count": 0,
      "outputs": [
        {
          "output_type": "execute_result",
          "data": {
            "text/html": [
              "<div>\n",
              "<style scoped>\n",
              "    .dataframe tbody tr th:only-of-type {\n",
              "        vertical-align: middle;\n",
              "    }\n",
              "\n",
              "    .dataframe tbody tr th {\n",
              "        vertical-align: top;\n",
              "    }\n",
              "\n",
              "    .dataframe thead th {\n",
              "        text-align: right;\n",
              "    }\n",
              "</style>\n",
              "<table border=\"1\" class=\"dataframe\">\n",
              "  <thead>\n",
              "    <tr style=\"text-align: right;\">\n",
              "      <th></th>\n",
              "      <th>title</th>\n",
              "      <th>date</th>\n",
              "      <th>summary</th>\n",
              "      <th>link</th>\n",
              "      <th>text</th>\n",
              "      <th>clean_text</th>\n",
              "      <th>text_tokenized</th>\n",
              "      <th>text_lemma</th>\n",
              "      <th>lemmatized_string</th>\n",
              "      <th>sentiment</th>\n",
              "    </tr>\n",
              "  </thead>\n",
              "  <tbody>\n",
              "    <tr>\n",
              "      <th>0</th>\n",
              "      <td>‘What do you have to lose?’ Trump touts anti-m...</td>\n",
              "      <td>2020-4-5</td>\n",
              "      <td>Praising the anti-malaria drug hydroxychloroq...</td>\n",
              "      <td>https://www.rt.com/news/484998-trump-modi-hydr...</td>\n",
              "      <td>‘What do you have to lose?’ Trump touts anti-m...</td>\n",
              "      <td>‘what you have lose?’ trump touts anti-malaria...</td>\n",
              "      <td>[lose, trump, touts, anti, malaria, drug, covi...</td>\n",
              "      <td>[lose, trump, tout, anti, malaria, drug, covid...</td>\n",
              "      <td>lose trump tout anti malaria drug covid 19 cur...</td>\n",
              "      <td>positive</td>\n",
              "    </tr>\n",
              "    <tr>\n",
              "      <th>1</th>\n",
              "      <td>Coronavirus live news: Trump tells Americans t...</td>\n",
              "      <td>2020-4-5</td>\n",
              "      <td>Global deaths approach 65,000; Spain infection...</td>\n",
              "      <td>https://www.theguardian.com/world/live/2020/ap...</td>\n",
              "      <td>Coronavirus live news: Trump tells Americans t...</td>\n",
              "      <td>coronavirus live news: trump tells americans e...</td>\n",
              "      <td>[coronavirus, live, news, trump, tells, americ...</td>\n",
              "      <td>[coronavirus, live, news, trump, tell, america...</td>\n",
              "      <td>coronavirus live news trump tell american expe...</td>\n",
              "      <td>positive</td>\n",
              "    </tr>\n",
              "    <tr>\n",
              "      <th>2</th>\n",
              "      <td>Front Row at the Trump Show review: Jonathan K...</td>\n",
              "      <td>2020-4-5</td>\n",
              "      <td>The ABC News White House correspondent first m...</td>\n",
              "      <td>https://www.theguardian.com/us-news/2020/apr/0...</td>\n",
              "      <td>Front Row at the Trump Show review: Jonathan K...</td>\n",
              "      <td>front row the trump show review: jonathan karl...</td>\n",
              "      <td>[front, row, trump, show, review, jonathan, ka...</td>\n",
              "      <td>[front, row, trump, show, review, jonathan, ka...</td>\n",
              "      <td>front row trump show review jonathan karl's pr...</td>\n",
              "      <td>positive</td>\n",
              "    </tr>\n",
              "    <tr>\n",
              "      <th>3</th>\n",
              "      <td>'A lot of death' ahead in US fight against COV...</td>\n",
              "      <td>2020-4-5</td>\n",
              "      <td>Trump issues stark warning, pledges to deploy ...</td>\n",
              "      <td>https://www.aljazeera.com/news/2020/04/trump-w...</td>\n",
              "      <td>'A lot of death' ahead in US fight against COV...</td>\n",
              "      <td>lot death' ahead fight against covid-19: live ...</td>\n",
              "      <td>[lot, death', ahead, fight, covid, 19, live, u...</td>\n",
              "      <td>[lot, death', ahead, fight, covid, 19, live, u...</td>\n",
              "      <td>lot death' ahead fight covid 19 live updatestr...</td>\n",
              "      <td>negative</td>\n",
              "    </tr>\n",
              "    <tr>\n",
              "      <th>4</th>\n",
              "      <td>Coronavirus: Trump predicts ‘a lot of death’ a...</td>\n",
              "      <td>2020-4-5</td>\n",
              "      <td>The US president predicts \"a lot of death\" but...</td>\n",
              "      <td>https://www.bbc.co.uk/news/world-us-canada-521...</td>\n",
              "      <td>Coronavirus: Trump predicts ‘a lot of death’ a...</td>\n",
              "      <td>coronavirus: trump predicts lot death’ cases p...</td>\n",
              "      <td>[coronavirus, trump, predicts, lot, death, cas...</td>\n",
              "      <td>[coronavirus, trump, predicts, lot, death, cas...</td>\n",
              "      <td>coronavirus trump predicts lot death case pas ...</td>\n",
              "      <td>positive</td>\n",
              "    </tr>\n",
              "  </tbody>\n",
              "</table>\n",
              "</div>"
            ],
            "text/plain": [
              "                                               title      date                                            summary                                               link                                               text                                         clean_text                                     text_tokenized                                         text_lemma                                  lemmatized_string sentiment\n",
              "0  ‘What do you have to lose?’ Trump touts anti-m...  2020-4-5   Praising the anti-malaria drug hydroxychloroq...  https://www.rt.com/news/484998-trump-modi-hydr...  ‘What do you have to lose?’ Trump touts anti-m...  ‘what you have lose?’ trump touts anti-malaria...  [lose, trump, touts, anti, malaria, drug, covi...  [lose, trump, tout, anti, malaria, drug, covid...  lose trump tout anti malaria drug covid 19 cur...  positive\n",
              "1  Coronavirus live news: Trump tells Americans t...  2020-4-5  Global deaths approach 65,000; Spain infection...  https://www.theguardian.com/world/live/2020/ap...  Coronavirus live news: Trump tells Americans t...  coronavirus live news: trump tells americans e...  [coronavirus, live, news, trump, tells, americ...  [coronavirus, live, news, trump, tell, america...  coronavirus live news trump tell american expe...  positive\n",
              "2  Front Row at the Trump Show review: Jonathan K...  2020-4-5  The ABC News White House correspondent first m...  https://www.theguardian.com/us-news/2020/apr/0...  Front Row at the Trump Show review: Jonathan K...  front row the trump show review: jonathan karl...  [front, row, trump, show, review, jonathan, ka...  [front, row, trump, show, review, jonathan, ka...  front row trump show review jonathan karl's pr...  positive\n",
              "3  'A lot of death' ahead in US fight against COV...  2020-4-5  Trump issues stark warning, pledges to deploy ...  https://www.aljazeera.com/news/2020/04/trump-w...  'A lot of death' ahead in US fight against COV...  lot death' ahead fight against covid-19: live ...  [lot, death', ahead, fight, covid, 19, live, u...  [lot, death', ahead, fight, covid, 19, live, u...  lot death' ahead fight covid 19 live updatestr...  negative\n",
              "4  Coronavirus: Trump predicts ‘a lot of death’ a...  2020-4-5  The US president predicts \"a lot of death\" but...  https://www.bbc.co.uk/news/world-us-canada-521...  Coronavirus: Trump predicts ‘a lot of death’ a...  coronavirus: trump predicts lot death’ cases p...  [coronavirus, trump, predicts, lot, death, cas...  [coronavirus, trump, predicts, lot, death, cas...  coronavirus trump predicts lot death case pas ...  positive"
            ]
          },
          "metadata": {
            "tags": []
          },
          "execution_count": 112
        }
      ]
    },
    {
      "cell_type": "code",
      "metadata": {
        "id": "j9uMAvzFcUMA",
        "colab_type": "code",
        "colab": {}
      },
      "source": [
        "# tfidf vectorizer of scikit learn\n",
        "\n",
        "vectorizer = TfidfVectorizer(stop_words=stopwords,use_idf = True, ngram_range=(1,2))\n",
        "#vectorize lemmatized tweets\n",
        "X = vectorizer.fit_transform(rss_sanders['lemmatized_string'])\n",
        "terms = vectorizer.get_feature_names()"
      ],
      "execution_count": 0,
      "outputs": []
    },
    {
      "cell_type": "code",
      "metadata": {
        "id": "Les5E5YCdIpA",
        "colab_type": "code",
        "colab": {}
      },
      "source": [
        "from sklearn.cluster import KMeans"
      ],
      "execution_count": 0,
      "outputs": []
    },
    {
      "cell_type": "code",
      "metadata": {
        "id": "c2JbKl92ghjj",
        "colab_type": "code",
        "colab": {}
      },
      "source": [
        "#K-means clustering\n",
        "num_clusters = 2\n",
        "km = KMeans(n_clusters=num_clusters,init='k-means++')\n",
        "labels = km.fit_predict(X)"
      ],
      "execution_count": 0,
      "outputs": []
    },
    {
      "cell_type": "code",
      "metadata": {
        "id": "OUmA4xlRgpW9",
        "colab_type": "code",
        "outputId": "66f8a571-96ff-463a-8f0a-b19979c4b2ba",
        "colab": {
          "base_uri": "https://localhost:8080/",
          "height": 517
        }
      },
      "source": [
        "print(\"K-means clustering: \\n\")\n",
        "asc_order_centroids = km.cluster_centers_.argsort()#[:, ::-1]\n",
        "order_centroids = asc_order_centroids[:,::-1]\n",
        "terms = vectorizer.get_feature_names()\n",
        "for i in range(num_clusters):\n",
        "    print (\"Cluster %d:\" % i)\n",
        "    for ind in order_centroids[i, :10]:\n",
        "        print (' %s' % terms[ind])\n",
        "    print('\\n')\n"
      ],
      "execution_count": 0,
      "outputs": [
        {
          "output_type": "stream",
          "text": [
            "K-means clustering: \n",
            "\n",
            "Cluster 0:\n",
            " sander\n",
            " biden\n",
            " win\n",
            " democratic\n",
            " key\n",
            " tuesday\n",
            " state\n",
            " bernie\n",
            " michigan\n",
            " primary\n",
            "\n",
            "\n",
            "Cluster 1:\n",
            " coronavirus\n",
            " rally\n",
            " campaign\n",
            " sanders\n",
            " biden bernie\n",
            " biden\n",
            " sander\n",
            " election\n",
            " outbreak\n",
            " coronavirus outbreak\n",
            "\n",
            "\n"
          ],
          "name": "stdout"
        }
      ]
    },
    {
      "cell_type": "code",
      "metadata": {
        "id": "kiewn5pFhTRs",
        "colab_type": "code",
        "colab": {}
      },
      "source": [
        "rss_trump['cluster'] = labels"
      ],
      "execution_count": 0,
      "outputs": []
    }
  ]
}